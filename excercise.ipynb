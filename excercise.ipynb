{
 "metadata": {
  "language_info": {
   "codemirror_mode": {
    "name": "ipython",
    "version": 3
   },
   "file_extension": ".py",
   "mimetype": "text/x-python",
   "name": "python",
   "nbconvert_exporter": "python",
   "pygments_lexer": "ipython3",
   "version": "3.8.3-final"
  },
  "orig_nbformat": 2,
  "kernelspec": {
   "name": "python3",
   "display_name": "Python 3"
  }
 },
 "nbformat": 4,
 "nbformat_minor": 2,
 "cells": [
  {
   "cell_type": "code",
   "execution_count": 155,
   "metadata": {},
   "outputs": [],
   "source": [
    "\n",
    "height = [1.87,  1.87, 1.82, 1.91, 1.90, 1.85]\n",
    "weight = [81.65, 97.52, 95.25, 92.98, 86.18, 88.45]\n",
    "\n",
    "import numpy as np\n",
    "\n",
    "np_height = np.array(height)\n",
    "np_weight = np.array(weight)"
   ]
  },
  {
   "cell_type": "code",
   "execution_count": 156,
   "metadata": {},
   "outputs": [],
   "source": [
    "import numpy as np"
   ]
  },
  {
   "cell_type": "code",
   "execution_count": 157,
   "metadata": {
    "tags": []
   },
   "outputs": [
    {
     "output_type": "stream",
     "name": "stdout",
     "text": "[23.34925219 27.88755755 28.75558507 25.48723993 23.87257618 25.84368152]\n"
    }
   ],
   "source": [
    "\n",
    "bmi = np_weight / np_height ** 2\n",
    "\n",
    "print(bmi)"
   ]
  },
  {
   "cell_type": "code",
   "execution_count": 158,
   "metadata": {},
   "outputs": [
    {
     "output_type": "execute_result",
     "data": {
      "text/plain": "array([23.34925219, 27.88755755, 28.75558507, 25.48723993, 23.87257618,\n       25.84368152])"
     },
     "metadata": {},
     "execution_count": 158
    }
   ],
   "source": [
    "\n",
    "bmi > 23\n",
    "\n",
    "bmi[bmi > 23]"
   ]
  },
  {
   "cell_type": "code",
   "execution_count": 159,
   "metadata": {
    "tags": []
   },
   "outputs": [
    {
     "output_type": "stream",
     "name": "stdout",
     "text": "[179.63  214.544 209.55  204.556 189.596 194.59 ]\n"
    }
   ],
   "source": [
    "weight_kg = [81.65, 97.52, 95.25, 92.98, 86.18, 88.45]\n",
    "\n",
    "import numpy as np\n",
    "\n",
    "np_weight_kg = np.array(weight_kg)\n",
    "\n",
    "np_weight_lbs = np_weight_kg * 2.2\n",
    "\n",
    "print(np_weight_lbs)"
   ]
  },
  {
   "cell_type": "code",
   "execution_count": 160,
   "metadata": {
    "tags": []
   },
   "outputs": [
    {
     "output_type": "stream",
     "name": "stdout",
     "text": "country    capital    area  population\n0        Brazil   Brasilia   8.516      200.40\n1        Russia     Moscow  17.100      143.50\n2         India  New Dehli   3.286     1252.00\n3         China    Beijing   9.597     1357.00\n4  South Africa   Pretoria   1.221       52.98\n"
    }
   ],
   "source": [
    "dict = {\"country\": [\"Brazil\", \"Russia\", \"India\", \"China\", \"South Africa\"],\n",
    "       \"capital\": [\"Brasilia\", \"Moscow\", \"New Dehli\", \"Beijing\", \"Pretoria\"],\n",
    "       \"area\": [8.516, 17.10, 3.286, 9.597, 1.221],\n",
    "       \"population\": [200.4, 143.5, 1252, 1357, 52.98] }\n",
    "\n",
    "import pandas as pd\n",
    "brics = pd.DataFrame(dict)\n",
    "print(brics)"
   ]
  },
  {
   "cell_type": "code",
   "execution_count": 161,
   "metadata": {
    "tags": []
   },
   "outputs": [
    {
     "output_type": "stream",
     "name": "stdout",
     "text": "country    capital    area  population\nBR        Brazil   Brasilia   8.516      200.40\nRU        Russia     Moscow  17.100      143.50\nIN         India  New Dehli   3.286     1252.00\nCH         China    Beijing   9.597     1357.00\nSA  South Africa   Pretoria   1.221       52.98\n"
    }
   ],
   "source": [
    "brics.index = [\"BR\", \"RU\", \"IN\", \"CH\", \"SA\"]\n",
    "print(brics)"
   ]
  },
  {
   "cell_type": "code",
   "execution_count": 162,
   "metadata": {
    "tags": []
   },
   "outputs": [
    {
     "output_type": "stream",
     "name": "stdout",
     "text": "Unnamed: 0   mpg  cyl   disp   hp  drat     wt   qsec  vs  am  \\\n0             Mazda RX4  21.0    6  160.0  110  3.90  2.620  16.46   0   1   \n1         Mazda RX4 Wag  21.0    6  160.0  110  3.90  2.875  17.02   0   1   \n2            Datsun 710  22.8    4  108.0   93  3.85  2.320  18.61   1   1   \n3        Hornet 4 Drive  21.4    6  258.0  110  3.08  3.215  19.44   1   0   \n4     Hornet Sportabout  18.7    8  360.0  175  3.15  3.440  17.02   0   0   \n5               Valiant  18.1    6  225.0  105  2.76  3.460  20.22   1   0   \n6            Duster 360  14.3    8  360.0  245  3.21  3.570  15.84   0   0   \n7             Merc 240D  24.4    4  146.7   62  3.69  3.190  20.00   1   0   \n8              Merc 230  22.8    4  140.8   95  3.92  3.150  22.90   1   0   \n9              Merc 280  19.2    6  167.6  123  3.92  3.440  18.30   1   0   \n10            Merc 280C  17.8    6  167.6  123  3.92  3.440  18.90   1   0   \n11           Merc 450SE  16.4    8  275.8  180  3.07  4.070  17.40   0   0   \n12           Merc 450SL  17.3    8  275.8  180  3.07  3.730  17.60   0   0   \n13          Merc 450SLC  15.2    8  275.8  180  3.07  3.780  18.00   0   0   \n14   Cadillac Fleetwood  10.4    8  472.0  205  2.93  5.250  17.98   0   0   \n15  Lincoln Continental  10.4    8  460.0  215  3.00  5.424  17.82   0   0   \n16    Chrysler Imperial  14.7    8  440.0  230  3.23  5.345  17.42   0   0   \n17             Fiat 128  32.4    4   78.7   66  4.08  2.200  19.47   1   1   \n18          Honda Civic  30.4    4   75.7   52  4.93  1.615  18.52   1   1   \n19       Toyota Corolla  33.9    4   71.1   65  4.22  1.835  19.90   1   1   \n20        Toyota Corona  21.5    4  120.1   97  3.70  2.465  20.01   1   0   \n21     Dodge Challenger  15.5    8  318.0  150  2.76  3.520  16.87   0   0   \n22          AMC Javelin  15.2    8  304.0  150  3.15  3.435  17.30   0   0   \n23           Camaro Z28  13.3    8  350.0  245  3.73  3.840  15.41   0   0   \n24     Pontiac Firebird  19.2    8  400.0  175  3.08  3.845  17.05   0   0   \n25            Fiat X1-9  27.3    4   79.0   66  4.08  1.935  18.90   1   1   \n26        Porsche 914-2  26.0    4  120.3   91  4.43  2.140  16.70   0   1   \n27         Lotus Europa  30.4    4   95.1  113  3.77  1.513  16.90   1   1   \n28       Ford Pantera L  15.8    8  351.0  264  4.22  3.170  14.50   0   1   \n29         Ferrari Dino  19.7    6  145.0  175  3.62  2.770  15.50   0   1   \n30        Maserati Bora  15.0    8  301.0  335  3.54  3.570  14.60   0   1   \n31           Volvo 142E  21.4    4  121.0  109  4.11  2.780  18.60   1   1   \n\n    gear  carb  \n0      4     4  \n1      4     4  \n2      4     1  \n3      3     1  \n4      3     2  \n5      3     1  \n6      3     4  \n7      4     2  \n8      4     2  \n9      4     4  \n10     4     4  \n11     3     3  \n12     3     3  \n13     3     3  \n14     3     4  \n15     3     4  \n16     3     4  \n17     4     1  \n18     4     2  \n19     4     1  \n20     3     1  \n21     3     2  \n22     3     2  \n23     3     4  \n24     3     2  \n25     4     1  \n26     5     2  \n27     5     2  \n28     5     4  \n29     5     6  \n30     5     8  \n31     4     2  \n"
    }
   ],
   "source": [
    "\n",
    "import pandas as pd\n",
    "\n",
    "cars = pd.read_csv('copy of cars.csv')\n",
    "\n",
    "# Print out cars\n",
    "print(cars)\n",
    "\n"
   ]
  },
  {
   "cell_type": "code",
   "execution_count": null,
   "metadata": {},
   "outputs": [],
   "source": [
    "# would make a csv file using python by # importing the csv module  \n",
    "    \n",
    "# my data rows as dictionary objects  \n",
    " mydict =[{','] \n",
    "    \n",
    "# field names  \n",
    "fields = ['name',]  \n",
    "    \n",
    "# name of csv file  \n",
    "filename = \"university_records.csv\"\n",
    "    \n",
    "# or csv.writer() "
   ]
  }
 ]
}